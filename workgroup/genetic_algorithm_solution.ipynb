{
 "cells": [
  {
   "cell_type": "code",
   "execution_count": 1,
   "id": "a1896307",
   "metadata": {
    "lines_to_next_cell": 2
   },
   "outputs": [],
   "source": [
    "from ioh import get_problem, ProblemClass\n",
    "from ioh import logger\n",
    "import sys\n",
    "import numpy as np\n",
    "import time"
   ]
  },
  {
   "cell_type": "code",
   "execution_count": 2,
   "id": "81c5e8f8",
   "metadata": {},
   "outputs": [
    {
     "data": {
      "text/plain": [
       "(array([30, 40, 50]),)"
      ]
     },
     "execution_count": 2,
     "metadata": {},
     "output_type": "execute_result"
    }
   ],
   "source": [
    "pop_size = 40\n",
    "np.array([max(20, 40-10), pop_size, min(100, pop_size+10)]),"
   ]
  },
  {
   "cell_type": "code",
   "execution_count": 7,
   "id": "9e166250",
   "metadata": {},
   "outputs": [
    {
     "data": {
      "text/plain": [
       "array([0.85      , 0.89666667, 0.94333333, 0.99      ])"
      ]
     },
     "execution_count": 7,
     "metadata": {},
     "output_type": "execute_result"
    }
   ],
   "source": [
    "np.linspace(0.85, 0.99, 4)"
   ]
  },
  {
   "cell_type": "code",
   "execution_count": 40,
   "id": "df0c0438",
   "metadata": {},
   "outputs": [],
   "source": [
    "x = np.random.permutation(49)"
   ]
  },
  {
   "cell_type": "code",
   "execution_count": null,
   "id": "d7bc98f8",
   "metadata": {},
   "outputs": [],
   "source": [
    "# Declaration of problems to be tested.\n",
    "# We obtain an interface of the OneMax problem here.\n",
    "# om(x) return the fitness value of 'x'\n",
    "dimension = 50\n",
    "om = get_problem(1, dimension=dimension, instance=1, problem_class=ProblemClass.PBO)\n",
    "# We know the optimum of onemax\n",
    "optimum = dimension"
   ]
  },
  {
   "cell_type": "code",
   "execution_count": 53,
   "id": "af08d6bb",
   "metadata": {},
   "outputs": [],
   "source": [
    "problem = get_problem(18, dimension=49, instance=1, problem_class=ProblemClass.PBO)"
   ]
  },
  {
   "cell_type": "code",
   "execution_count": null,
   "id": "384a1784",
   "metadata": {},
   "outputs": [
    {
     "ename": "TypeError",
     "evalue": "'module' object is not callable",
     "output_type": "error",
     "traceback": [
      "\u001b[1;31m---------------------------------------------------------------------------\u001b[0m",
      "\u001b[1;31mTypeError\u001b[0m                                 Traceback (most recent call last)",
      "Cell \u001b[1;32mIn[61], line 1\u001b[0m\n\u001b[1;32m----> 1\u001b[0m \u001b[43mnp\u001b[49m\u001b[38;5;241;43m.\u001b[39;49m\u001b[43mrandom\u001b[49m\u001b[43m(\u001b[49m\u001b[38;5;241;43m0\u001b[39;49m\u001b[43m,\u001b[49m\u001b[43m \u001b[49m\u001b[38;5;241;43m50\u001b[39;49m\u001b[43m)\u001b[49m\n",
      "\u001b[1;31mTypeError\u001b[0m: 'module' object is not callable"
     ]
    }
   ],
   "source": [
    "np.random.randint(0, 50)"
   ]
  },
  {
   "cell_type": "code",
   "execution_count": 54,
   "id": "95b8066e",
   "metadata": {},
   "outputs": [
    {
     "data": {
      "text/plain": [
       "'LABS'"
      ]
     },
     "execution_count": 54,
     "metadata": {},
     "output_type": "execute_result"
    }
   ],
   "source": [
    "problem.meta_data.name"
   ]
  },
  {
   "cell_type": "code",
   "execution_count": null,
   "id": "9ecc2e8b",
   "metadata": {},
   "outputs": [
    {
     "data": {
      "text/plain": [
       "(8, 31)"
      ]
     },
     "execution_count": 67,
     "metadata": {},
     "output_type": "execute_result"
    }
   ],
   "source": [
    "point1, point2 = np.random.choice(49, 2, replace=False)\n",
    "point1, point2  "
   ]
  },
  {
   "cell_type": "code",
   "execution_count": 64,
   "id": "da46070a",
   "metadata": {},
   "outputs": [
    {
     "name": "stdout",
     "output_type": "stream",
     "text": [
      "a\n"
     ]
    }
   ],
   "source": [
    "if problem.meta_data.name == 'LABS':\n",
    "    print(\"a\")"
   ]
  },
  {
   "cell_type": "code",
   "execution_count": 55,
   "id": "ae70ab22",
   "metadata": {},
   "outputs": [],
   "source": [
    "if problem.meta_data.name == 'NQueens':\n",
    "    print(\"a\")"
   ]
  },
  {
   "cell_type": "code",
   "execution_count": 45,
   "id": "1cf3f929",
   "metadata": {},
   "outputs": [
    {
     "data": {
      "text/plain": [
       "-32150.0"
      ]
     },
     "execution_count": 45,
     "metadata": {},
     "output_type": "execute_result"
    }
   ],
   "source": [
    "x_valid = list(np.random.permutation(49))  # A valid random permutation\n",
    "fitness = problem(x_valid) \n",
    "fitness"
   ]
  },
  {
   "cell_type": "code",
   "execution_count": 42,
   "id": "da43f416",
   "metadata": {},
   "outputs": [],
   "source": [
    "x = [1, 5, 0, 0, 0, 0, 0, 0, 0, 0, 0, 0, 0, 0, 0, 0, 0, 0, 0, 0, 0, 0, 0, 0, 0, 0, 0, 0, 0, 0, 0, 0, 0, 0, 0, 0, 0, 0, 0, 0, 0, 0, 0, 0, 0, 0, 0, 0, 0]"
   ]
  },
  {
   "cell_type": "code",
   "execution_count": 43,
   "id": "65b70cc5",
   "metadata": {},
   "outputs": [
    {
     "data": {
      "text/plain": [
       "-118.0"
      ]
     },
     "execution_count": 43,
     "metadata": {},
     "output_type": "execute_result"
    }
   ],
   "source": [
    "problem(x)"
   ]
  },
  {
   "cell_type": "code",
   "execution_count": 47,
   "id": "096216c7",
   "metadata": {},
   "outputs": [
    {
     "data": {
      "text/plain": [
       "<IntegerSingleObjectiveProblem 23. NQueens (iid=1 dim=49)>"
      ]
     },
     "execution_count": 47,
     "metadata": {},
     "output_type": "execute_result"
    }
   ],
   "source": [
    "problem"
   ]
  },
  {
   "cell_type": "code",
   "execution_count": 48,
   "id": "454e061a",
   "metadata": {},
   "outputs": [
    {
     "ename": "NameError",
     "evalue": "name 'IntegerSingleObjectiveProblem' is not defined",
     "output_type": "error",
     "traceback": [
      "\u001b[1;31m---------------------------------------------------------------------------\u001b[0m",
      "\u001b[1;31mNameError\u001b[0m                                 Traceback (most recent call last)",
      "Cell \u001b[1;32mIn[48], line 1\u001b[0m\n\u001b[1;32m----> 1\u001b[0m \u001b[38;5;28misinstance\u001b[39m(\u001b[43mIntegerSingleObjectiveProblem\u001b[49m, problem)\n",
      "\u001b[1;31mNameError\u001b[0m: name 'IntegerSingleObjectiveProblem' is not defined"
     ]
    }
   ],
   "source": [
    "isinstance(IntegerSingleObjectiveProblem, problem)"
   ]
  },
  {
   "cell_type": "code",
   "execution_count": 6,
   "id": "27afef4b",
   "metadata": {},
   "outputs": [
    {
     "data": {
      "text/plain": [
       "<Solution x: [0, 0, 0, 0, 0, 0, 0, 0, 0, 0, 0, 0, 0, 0, 0, 0, 0, 0, 0, 0, 0, 0, 0, 0, 0, 0, 0, 0, 0, 0, 0, 0, 0, 0, 0, 0, 0, 0, 0, 0, 0, 0, 0, 0, 0, 0, 0, 0, 0] y: 7>"
      ]
     },
     "execution_count": 6,
     "metadata": {},
     "output_type": "execute_result"
    }
   ],
   "source": [
    "problem.optimum"
   ]
  },
  {
   "cell_type": "code",
   "execution_count": null,
   "id": "b70b710d",
   "metadata": {},
   "outputs": [],
   "source": [
    "# Create default logger compatible with IOHanalyzer\n",
    "# `root` indicates where the output files are stored.\n",
    "# `folder_name` is the name of the folder containing all output. You should compress the folder 'run' and upload it to IOHanalyzer.\n",
    "l = logger.Analyzer(root=\"data\", \n",
    "    folder_name=\"run\", \n",
    "    algorithm_name=\"genetic_algorithm\", \n",
    "    algorithm_info=\"The lab session of the evolutionary algorithm course in LIACS\")"
   ]
  },
  {
   "cell_type": "code",
   "execution_count": null,
   "id": "0697a22a",
   "metadata": {
    "lines_to_next_cell": 2
   },
   "outputs": [],
   "source": [
    "om.attach_logger(l)"
   ]
  },
  {
   "cell_type": "code",
   "execution_count": null,
   "id": "9f7e16b6",
   "metadata": {},
   "outputs": [],
   "source": [
    "# Parameters setting\n",
    "pop_size = 3\n",
    "tournament_k = 10\n",
    "mutation_rate = 0.02\n",
    "crossover_probability = 0.5"
   ]
  },
  {
   "cell_type": "code",
   "execution_count": null,
   "id": "82704cc7",
   "metadata": {
    "lines_to_next_cell": 1
   },
   "outputs": [],
   "source": [
    "# Uniform Crossover\n",
    "def crossover(p1, p2):\n",
    "   if(np.random.uniform(0,1) < crossover_probability):\n",
    "        for i in range(len(p1)) :\n",
    "            if np.random.uniform(0,1) < 0.5:\n",
    "                t = p1[i]\n",
    "                p1[i] = p2[i]\n",
    "                p2[i] = t"
   ]
  },
  {
   "cell_type": "code",
   "execution_count": null,
   "id": "07ade70e",
   "metadata": {},
   "outputs": [],
   "source": [
    "# Standard bit mutation using mutation rate p\n",
    "def mutation(p):\n",
    "    for i in range(len(p)) :\n",
    "        if np.random.uniform(0,1) < mutation_rate:\n",
    "            p[i] = 1 - p[i]"
   ]
  },
  {
   "cell_type": "code",
   "execution_count": null,
   "id": "f7b4e034",
   "metadata": {
    "lines_to_next_cell": 1
   },
   "outputs": [],
   "source": [
    "def mating_seletion(parent, parent_f):\n",
    "    # Using the tournament selection\n",
    "    # select_parent = []\n",
    "    # for i in range(len(parent)) :\n",
    "    #     pre_select = np.random.choice(len(parent_f),tournament_k,replace = False)\n",
    "    #     max_f = sys.float_info.min\n",
    "    #     for p in pre_select:\n",
    "    #         if parent_f[p] > max_f:\n",
    "    #             index = p\n",
    "    #             max_f = parent_f[p]\n",
    "    #     select_parent.append(parent[index].copy())\n",
    "    # return select_parent\n",
    "\n",
    "    # Using the proportional selection\n",
    "\n",
    "    # Plusing 0.001 to avoid dividing 0\n",
    "    f_min = min(parent_f)\n",
    "    f_sum = sum(parent_f) - (f_min - 0.001) * len(parent_f)\n",
    "    \n",
    "    rw = [(parent_f[0] - f_min + 0.001)/f_sum]\n",
    "    for i in range(1,len(parent_f)):\n",
    "        rw.append(rw[i-1] + (parent_f[i] - f_min + 0.001) / f_sum)\n",
    "    \n",
    "    select_parent = []\n",
    "    for i in range(len(parent)) :\n",
    "        r = np.random.uniform(0,1)\n",
    "        index = 0\n",
    "        # print(rw,r)\n",
    "        while(r > rw[index]) :\n",
    "            index = index + 1\n",
    "        \n",
    "        select_parent.append(parent[index].copy())\n",
    "    return select_parent"
   ]
  },
  {
   "cell_type": "code",
   "execution_count": null,
   "id": "5ef2e5b7",
   "metadata": {
    "lines_to_next_cell": 1
   },
   "outputs": [],
   "source": [
    "def genetic_algorithm(func, budget = None):\n",
    "    \n",
    "    # budget of each run: 10000\n",
    "    if budget is None:\n",
    "        budget = 10000\n",
    "    \n",
    "    f_opt = sys.float_info.min\n",
    "    x_opt = None\n",
    "    \n",
    "    parent = []\n",
    "    parent_f = []\n",
    "    for i in range(pop_size):\n",
    "\n",
    "        # Initialization\n",
    "        parent.append(np.random.randint(2, size = func.meta_data.n_variables))\n",
    "        parent_f.append(func(parent[i]))\n",
    "        budget = budget - 1\n",
    "\n",
    "    while (f_opt < optimum and budget > 0):\n",
    "            \n",
    "        offspring = mating_seletion(parent,parent_f)\n",
    "\n",
    "        for i in range(0,pop_size - (pop_size%2),2) :\n",
    "            crossover(offspring[i], offspring[i+1])\n",
    "\n",
    "\n",
    "        for i in range(pop_size):\n",
    "            mutation(offspring[i])\n",
    "\n",
    "        parent = offspring.copy()\n",
    "        for i in range(pop_size) : \n",
    "            parent_f[i] = func(parent[i])\n",
    "            budget = budget - 1\n",
    "            if parent_f[i] > f_opt:\n",
    "                    f_opt = parent_f[i]\n",
    "                    x_opt = parent[i].copy()\n",
    "            if f_opt >= optimum:\n",
    "                break\n",
    "        \n",
    "    # ioh function, to reset the recording status of the function.\n",
    "    func.reset()\n",
    "    print(f_opt,x_opt)\n",
    "    return f_opt, x_opt"
   ]
  },
  {
   "cell_type": "code",
   "execution_count": null,
   "id": "96e88e48",
   "metadata": {
    "lines_to_next_cell": 1
   },
   "outputs": [],
   "source": [
    "def main():\n",
    "    # We run the algorithm 20 independent times.\n",
    "    for _ in range(20):\n",
    "        genetic_algorithm(om)"
   ]
  },
  {
   "cell_type": "code",
   "execution_count": null,
   "id": "58567ddf",
   "metadata": {},
   "outputs": [],
   "source": [
    "if __name__ == '__main__':\n",
    "  start = time.time()\n",
    "  main()\n",
    "  end = time.time()\n",
    "  print(\"The program takes %s seconds\" % (end-start))"
   ]
  },
  {
   "cell_type": "code",
   "execution_count": null,
   "id": "8050c481",
   "metadata": {},
   "outputs": [],
   "source": []
  }
 ],
 "metadata": {
  "jupytext": {
   "cell_metadata_filter": "-all",
   "main_language": "python",
   "notebook_metadata_filter": "-all"
  },
  "kernelspec": {
   "display_name": "IDL2",
   "language": "python",
   "name": "python3"
  },
  "language_info": {
   "codemirror_mode": {
    "name": "ipython",
    "version": 3
   },
   "file_extension": ".py",
   "mimetype": "text/x-python",
   "name": "python",
   "nbconvert_exporter": "python",
   "pygments_lexer": "ipython3",
   "version": "3.9.19"
  }
 },
 "nbformat": 4,
 "nbformat_minor": 5
}
