{
 "cells": [
  {
   "cell_type": "code",
   "execution_count": 8,
   "id": "3a1b1c9b",
   "metadata": {
    "lines_to_next_cell": 2
   },
   "outputs": [],
   "source": [
    "from ioh import get_problem, ProblemClass\n",
    "from ioh import logger\n",
    "import sys\n",
    "import numpy as np\n",
    "import time"
   ]
  },
  {
   "cell_type": "code",
   "execution_count": 9,
   "id": "80684f60",
   "metadata": {},
   "outputs": [],
   "source": [
    "# Declaration of problems to be tested.\n",
    "# We obtain an interface of the OneMax problem here.\n",
    "dimension = 50"
   ]
  },
  {
   "cell_type": "code",
   "execution_count": 22,
   "id": "57b44098",
   "metadata": {},
   "outputs": [],
   "source": [
    "\"\"\"\n",
    "1 (fid) : The funciton ID of the problem in the problem suite. OneMax is 1 defined within the PBO class. 2 would correspond to another problem.\n",
    "dimension : The dimension of the problem, which we have set to 50.\n",
    "instance: In benchmarking libraries, problems often have multiple instances. These instances may vary slightly (e.g., different random noise, shifts, etc.) \n",
    "            to allow algorithms to be tested on a variety of conditions.\n",
    "om(x) return the fitness value of 'x'\n",
    "\"\"\"\n",
    "om = get_problem(1, dimension=dimension, instance=1, problem_class=ProblemClass.PBO)\n",
    "# We know the optimum of onemax\n",
    "optimum = dimension"
   ]
  },
  {
   "cell_type": "code",
   "execution_count": 23,
   "id": "88502a16",
   "metadata": {},
   "outputs": [],
   "source": [
    "# Create default logger compatible with IOHanalyzer\n",
    "# `root` indicates where the output files are stored.\n",
    "# `folder_name` is the name of the folder containing all output. You should compress the folder 'run' and upload it to IOHanalyzer.\n",
    "l = logger.Analyzer(root=\"data\", \n",
    "    folder_name=\"run\", \n",
    "    algorithm_name=\"genetic_algorithm\", \n",
    "    algorithm_info=\"The lab session of the evolutionary algorithm course in LIACS\")"
   ]
  },
  {
   "cell_type": "code",
   "execution_count": 24,
   "id": "a2f0113d",
   "metadata": {
    "lines_to_next_cell": 2
   },
   "outputs": [],
   "source": [
    "om.attach_logger(l)"
   ]
  },
  {
   "cell_type": "code",
   "execution_count": 40,
   "id": "c7dadb5b",
   "metadata": {},
   "outputs": [
    {
     "data": {
      "text/plain": [
       "'OneMax'"
      ]
     },
     "execution_count": 40,
     "metadata": {},
     "output_type": "execute_result"
    }
   ],
   "source": [
    "om.meta_data.name\n"
   ]
  },
  {
   "cell_type": "code",
   "execution_count": 14,
   "id": "bfdf7379",
   "metadata": {},
   "outputs": [],
   "source": [
    "# Parameters setting\n",
    "pop_size = 100\n",
    "tournament_k = 1\n",
    "mutation_rate = 0.02\n",
    "crossover_probability = 0.6"
   ]
  },
  {
   "cell_type": "code",
   "execution_count": 15,
   "id": "9aad94a5",
   "metadata": {},
   "outputs": [
    {
     "data": {
      "text/plain": [
       "0.7537165442981083"
      ]
     },
     "execution_count": 15,
     "metadata": {},
     "output_type": "execute_result"
    }
   ],
   "source": [
    "a = np.random.rand()\n",
    "a"
   ]
  },
  {
   "cell_type": "code",
   "execution_count": 16,
   "id": "80faa8b1",
   "metadata": {
    "lines_to_next_cell": 1
   },
   "outputs": [],
   "source": [
    "# Uniform Crossover\n",
    "def crossover(p1, p2):\n",
    "    if np.random.rand() < crossover_probability:\n",
    "        for i in range(len(p1)):\n",
    "            if np.random.rand() < 0.5:\n",
    "                v = p1[i]\n",
    "                p1[i] = p2[i]\n",
    "                p2[i] = v\n",
    "    return p1,p2"
   ]
  },
  {
   "cell_type": "code",
   "execution_count": 17,
   "id": "861d67ec",
   "metadata": {
    "lines_to_next_cell": 1
   },
   "outputs": [],
   "source": [
    "# Standard bit mutation using mutation rate p\n",
    "def mutation(p):\n",
    "    for i in range(len(p)):\n",
    "        if np.random.rand() < mutation_rate:\n",
    "            p[i] = abs(p[i] - 1)\n",
    "            \n",
    "    return p"
   ]
  },
  {
   "cell_type": "code",
   "execution_count": 18,
   "id": "77d9c42c",
   "metadata": {
    "lines_to_next_cell": 1
   },
   "outputs": [],
   "source": [
    "# Using the Fitness proportional selection\n",
    "def mating_seletion(parent, parent_f) :    \n",
    "    # c = lowest score of parent_f\n",
    "    # sum total fitness score,\n",
    "    # p = f[i] - c / total - c * mew (avg score?) -> check lecture\n",
    "    # mew is population size\n",
    "    \n",
    "    c = min(parent_f) - 0.001\n",
    "    S_f = sum(parent_f)\n",
    "    probabilities = []\n",
    "    \n",
    "    for i in range(len(parent)):\n",
    "        p = (parent_f[i] - c) / (S_f - (c * len(parent)))\n",
    "        probabilities.append(p)\n",
    "        \n",
    "    # new parents\n",
    "    offspring = []\n",
    "    for i in range(len(parent)):\n",
    "        pick = np.random.choice(parent, p=probabilities)\n",
    "        offspring.append(pick)\n",
    "    \n",
    "    return offspring"
   ]
  },
  {
   "cell_type": "code",
   "execution_count": 19,
   "id": "30d3d9ff",
   "metadata": {
    "lines_to_next_cell": 1
   },
   "outputs": [],
   "source": [
    "def genetic_algorithm(func, budget = None):\n",
    "    \n",
    "    # budget of each run: 10000\n",
    "    if budget is None:\n",
    "        budget = 10000\n",
    "    \n",
    "    # f_opt : Optimal function value.\n",
    "    # x_opt : Optimal solution.\n",
    "    f_opt = sys.float_info.min\n",
    "    x_opt = None\n",
    "    \n",
    "    # parent : A list that holds the binary strings representing potential solutions or individuals in the current population.\n",
    "    # parent_f : A list that holds the fitness values corresponding to each individual in the parent list.\n",
    "    parent = []\n",
    "    parent_f = []\n",
    "    for i in range(pop_size):\n",
    "\n",
    "        # Initialization\n",
    "        parent.append(np.random.randint(2, size = func.meta_data.n_variables))\n",
    "        parent_f.append(func(parent[i]))\n",
    "        budget = budget - 1\n",
    "\n",
    "    while (f_opt < optimum and budget > 0):\n",
    "\n",
    "        # Perform mating selection, crossover, and mutation to generate offspring\n",
    "        offspring = mating_seletion(parent, parent_f)\n",
    "        \n",
    "        \n",
    "        for p in range(0, (len(parent)), 2):\n",
    "            offspring[p], offspring[p+ 1] = crossover(offspring[p], offspring[p+ 1])\n",
    "        \n",
    "        for i in range(len(offspring)):\n",
    "            offspring[i] = mutation(offspring[i])\n",
    "        \n",
    "        parent = offspring    \n",
    "        parent_f = [func(offspring[i]) for i in offspring]    \n",
    "        \n",
    "        best_idx = np.argmax(parent_f)\n",
    "        x_opt = parent(best_idx)\n",
    "        f_opt = parent_f(best_idx)\n",
    "    # ioh function, to reset the recording status of the function.\n",
    "    func.reset()\n",
    "    print(f_opt,x_opt)\n",
    "    return f_opt, x_opt"
   ]
  },
  {
   "cell_type": "code",
   "execution_count": 20,
   "id": "c797684f",
   "metadata": {
    "lines_to_next_cell": 1
   },
   "outputs": [],
   "source": [
    "def main():\n",
    "    # We run the algorithm 20 independent times.\n",
    "    for _ in range(20):\n",
    "        genetic_algorithm(om)"
   ]
  },
  {
   "cell_type": "code",
   "execution_count": 21,
   "id": "fe611611",
   "metadata": {},
   "outputs": [
    {
     "ename": "ValueError",
     "evalue": "a must be 1-dimensional",
     "output_type": "error",
     "traceback": [
      "\u001b[1;31m---------------------------------------------------------------------------\u001b[0m",
      "\u001b[1;31mValueError\u001b[0m                                Traceback (most recent call last)",
      "Cell \u001b[1;32mIn[21], line 3\u001b[0m\n\u001b[0;32m      1\u001b[0m \u001b[38;5;28;01mif\u001b[39;00m \u001b[38;5;18m__name__\u001b[39m \u001b[38;5;241m==\u001b[39m \u001b[38;5;124m'\u001b[39m\u001b[38;5;124m__main__\u001b[39m\u001b[38;5;124m'\u001b[39m:\n\u001b[0;32m      2\u001b[0m   start \u001b[38;5;241m=\u001b[39m time\u001b[38;5;241m.\u001b[39mtime()\n\u001b[1;32m----> 3\u001b[0m   \u001b[43mmain\u001b[49m\u001b[43m(\u001b[49m\u001b[43m)\u001b[49m\n\u001b[0;32m      4\u001b[0m   end \u001b[38;5;241m=\u001b[39m time\u001b[38;5;241m.\u001b[39mtime()\n\u001b[0;32m      5\u001b[0m   \u001b[38;5;28mprint\u001b[39m(\u001b[38;5;124m\"\u001b[39m\u001b[38;5;124mThe program takes \u001b[39m\u001b[38;5;132;01m%s\u001b[39;00m\u001b[38;5;124m seconds\u001b[39m\u001b[38;5;124m\"\u001b[39m \u001b[38;5;241m%\u001b[39m (end\u001b[38;5;241m-\u001b[39mstart))\n",
      "Cell \u001b[1;32mIn[20], line 4\u001b[0m, in \u001b[0;36mmain\u001b[1;34m()\u001b[0m\n\u001b[0;32m      1\u001b[0m \u001b[38;5;28;01mdef\u001b[39;00m \u001b[38;5;21mmain\u001b[39m():\n\u001b[0;32m      2\u001b[0m     \u001b[38;5;66;03m# We run the algorithm 20 independent times.\u001b[39;00m\n\u001b[0;32m      3\u001b[0m     \u001b[38;5;28;01mfor\u001b[39;00m _ \u001b[38;5;129;01min\u001b[39;00m \u001b[38;5;28mrange\u001b[39m(\u001b[38;5;241m20\u001b[39m):\n\u001b[1;32m----> 4\u001b[0m         \u001b[43mgenetic_algorithm\u001b[49m\u001b[43m(\u001b[49m\u001b[43mom\u001b[49m\u001b[43m)\u001b[49m\n",
      "Cell \u001b[1;32mIn[19], line 26\u001b[0m, in \u001b[0;36mgenetic_algorithm\u001b[1;34m(func, budget)\u001b[0m\n\u001b[0;32m     21\u001b[0m     budget \u001b[38;5;241m=\u001b[39m budget \u001b[38;5;241m-\u001b[39m \u001b[38;5;241m1\u001b[39m\n\u001b[0;32m     23\u001b[0m \u001b[38;5;28;01mwhile\u001b[39;00m (f_opt \u001b[38;5;241m<\u001b[39m optimum \u001b[38;5;129;01mand\u001b[39;00m budget \u001b[38;5;241m>\u001b[39m \u001b[38;5;241m0\u001b[39m):\n\u001b[0;32m     24\u001b[0m \n\u001b[0;32m     25\u001b[0m     \u001b[38;5;66;03m# Perform mating selection, crossover, and mutation to generate offspring\u001b[39;00m\n\u001b[1;32m---> 26\u001b[0m     offspring \u001b[38;5;241m=\u001b[39m \u001b[43mmating_seletion\u001b[49m\u001b[43m(\u001b[49m\u001b[43mparent\u001b[49m\u001b[43m,\u001b[49m\u001b[43m \u001b[49m\u001b[43mparent_f\u001b[49m\u001b[43m)\u001b[49m\n\u001b[0;32m     29\u001b[0m     \u001b[38;5;28;01mfor\u001b[39;00m p \u001b[38;5;129;01min\u001b[39;00m \u001b[38;5;28mrange\u001b[39m(\u001b[38;5;241m0\u001b[39m, (\u001b[38;5;28mlen\u001b[39m(parent)), \u001b[38;5;241m2\u001b[39m):\n\u001b[0;32m     30\u001b[0m         offspring[p], offspring[p\u001b[38;5;241m+\u001b[39m \u001b[38;5;241m1\u001b[39m] \u001b[38;5;241m=\u001b[39m crossover(offspring[p], offspring[p\u001b[38;5;241m+\u001b[39m \u001b[38;5;241m1\u001b[39m])\n",
      "Cell \u001b[1;32mIn[18], line 19\u001b[0m, in \u001b[0;36mmating_seletion\u001b[1;34m(parent, parent_f)\u001b[0m\n\u001b[0;32m     17\u001b[0m offspring \u001b[38;5;241m=\u001b[39m []\n\u001b[0;32m     18\u001b[0m \u001b[38;5;28;01mfor\u001b[39;00m i \u001b[38;5;129;01min\u001b[39;00m \u001b[38;5;28mrange\u001b[39m(\u001b[38;5;28mlen\u001b[39m(parent)):\n\u001b[1;32m---> 19\u001b[0m     pick \u001b[38;5;241m=\u001b[39m \u001b[43mnp\u001b[49m\u001b[38;5;241;43m.\u001b[39;49m\u001b[43mrandom\u001b[49m\u001b[38;5;241;43m.\u001b[39;49m\u001b[43mchoice\u001b[49m\u001b[43m(\u001b[49m\u001b[43mparent\u001b[49m\u001b[43m,\u001b[49m\u001b[43m \u001b[49m\u001b[43mp\u001b[49m\u001b[38;5;241;43m=\u001b[39;49m\u001b[43mprobabilities\u001b[49m\u001b[43m)\u001b[49m\n\u001b[0;32m     20\u001b[0m     offspring\u001b[38;5;241m.\u001b[39mappend(pick)\n\u001b[0;32m     22\u001b[0m \u001b[38;5;28;01mreturn\u001b[39;00m offspring\n",
      "File \u001b[1;32mmtrand.pyx:930\u001b[0m, in \u001b[0;36mnumpy.random.mtrand.RandomState.choice\u001b[1;34m()\u001b[0m\n",
      "\u001b[1;31mValueError\u001b[0m: a must be 1-dimensional"
     ]
    }
   ],
   "source": [
    "if __name__ == '__main__':\n",
    "  start = time.time()\n",
    "  main()\n",
    "  end = time.time()\n",
    "  print(\"The program takes %s seconds\" % (end-start))"
   ]
  },
  {
   "cell_type": "code",
   "execution_count": null,
   "id": "60077c8b",
   "metadata": {},
   "outputs": [],
   "source": []
  }
 ],
 "metadata": {
  "jupytext": {
   "cell_metadata_filter": "-all",
   "main_language": "python",
   "notebook_metadata_filter": "-all"
  },
  "kernelspec": {
   "display_name": "IDL2",
   "language": "python",
   "name": "python3"
  },
  "language_info": {
   "codemirror_mode": {
    "name": "ipython",
    "version": 3
   },
   "file_extension": ".py",
   "mimetype": "text/x-python",
   "name": "python",
   "nbconvert_exporter": "python",
   "pygments_lexer": "ipython3",
   "version": "3.9.19"
  }
 },
 "nbformat": 4,
 "nbformat_minor": 5
}
